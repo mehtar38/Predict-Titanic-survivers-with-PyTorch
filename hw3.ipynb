{
  "cells": [
    {
      "cell_type": "markdown",
      "metadata": {
        "id": "bn5bG0OZuLnN"
      },
      "source": [
        "## Question 1: Common PyTorch Operations\n",
        "You have used PyTorch in your last assignment. In this question, let's get to know PyTorch better by performing some common operations. In practice, you will be using these operations frequently.\n",
        "\n",
        "For now, import PyTorch first. If you don't have it installed, you can install it by running `!pip install torch` in a code cell.\n",
        "\n",
        "In addition, you may find their documentation to learn more: https://pytorch.org/docs/stable/index.html"
      ]
    },
    {
      "cell_type": "code",
      "execution_count": null,
      "metadata": {
        "id": "absCvPuYuLnN"
      },
      "outputs": [],
      "source": [
        "import torch\n",
        "import numpy as np"
      ]
    },
    {
      "cell_type": "markdown",
      "metadata": {
        "id": "DWQmqbABuLnO"
      },
      "source": [
        "### Question 1.1: Tensor Operations (5 points)\n",
        "In this question, we will look at some common code snippets you will encounter when working with PyTorch tensors."
      ]
    },
    {
      "cell_type": "code",
      "execution_count": null,
      "metadata": {
        "colab": {
          "base_uri": "https://localhost:8080/"
        },
        "id": "V652TuyruLnO",
        "outputId": "23069852-e942-4940-8496-c1eae0ca42ef"
      },
      "outputs": [
        {
          "name": "stdout",
          "output_type": "stream",
          "text": [
            "Shape of Tensor A:  torch.Size([2, 2])\n",
            "Matrix Multiplication of Tensor A x Tensor B:  tensor([[3, 3],\n",
            "        [7, 7]])\n",
            "Element-wise Multiplication of Tensor A x Tensor B:  tensor([[1, 2],\n",
            "        [3, 4]])\n",
            "Resulting Matrix Shape:  torch.Size([4, 2])\n",
            "Reshaped Tensor A:  tensor([1, 2, 3, 4])\n",
            "Resulting Tensor:  tensor([[0.8664, 0.6133, 0.2550],\n",
            "        [0.4765, 0.6155, 0.2107],\n",
            "        [0.8812, 0.5791, 0.1390]])\n"
          ]
        }
      ],
      "source": [
        "# Create a 2D tensor\n",
        "A = torch.tensor([[1, 2], [3, 4]])\n",
        "# Create an all-ones tensor with the same shape as A\n",
        "B = torch.ones_like(A)\n",
        "# Create an all-zeros tensor with the same shape as A\n",
        "C = torch.zeros_like(A)\n",
        "\n",
        "##### Your code starts here #####\n",
        "\n",
        "# Print out the shape of tensor A\n",
        "print(\"Shape of Tensor A: \", A.shape)\n",
        "# Print out the result of multiplying tensor A with tensor B\n",
        "print(\"Matrix Multiplication of Tensor A x Tensor B: \", torch.matmul(A, B)) #Matrix Multiplication\n",
        "print(\"Element-wise Multiplication of Tensor A x Tensor B: \", torch.mul(A, B)) #Element-wise Multiplication\n",
        "# Concatenate B and C along dimension 0 and print out the shape of the result\n",
        "D = torch.cat((B,C), dim=0)\n",
        "print(\"Resulting Matrix Shape: \", D.shape)\n",
        "# Reshape A into a 1D tensor and print out A\n",
        "print(\"Reshaped Tensor A: \", torch.reshape(A, (-1,)))\n",
        "# Create a random tensor of shape (3, 3) with values from 0 to 1 and print out the tensor\n",
        "print(\"Resulting Tensor: \", torch.rand([3,3]))"
      ]
    },
    {
      "cell_type": "markdown",
      "metadata": {
        "id": "lcD3s6jvuLnO"
      },
      "source": [
        "### Question 1.2: Autograd (5 points)\n",
        "Autograd is a feature offered by PyTorch that automatically computes gradients for tensors, this facilitates the updating of model parameters during training. In this question, you will work with autograd to compute gradients for a tensor."
      ]
    },
    {
      "cell_type": "code",
      "execution_count": null,
      "metadata": {
        "colab": {
          "base_uri": "https://localhost:8080/"
        },
        "id": "p73QNo-guLnO",
        "outputId": "b9016487-0282-4b14-d383-85adff6256be"
      },
      "outputs": [
        {
          "name": "stdout",
          "output_type": "stream",
          "text": [
            "Gradient:  (tensor([1.0000, 1.0818]),)\n"
          ]
        }
      ],
      "source": [
        "# Define a simple function\n",
        "def f(x):\n",
        "    return x[0] + x[1] * x[1]\n",
        "\n",
        "\n",
        "##### Your code starts here #####\n",
        "\n",
        "# Create a 2-element 1D tensor `param` with automatic differentiation enabled\n",
        "# hint: use argument `requires_grad`\n",
        "param = torch.rand(2, requires_grad=True)\n",
        "\n",
        "# Calculate the gradient of f with respect to `param`\n",
        "# hint: use `torch.autograd.grad` function\n",
        "gradient = torch.autograd.grad(f(param), param)\n",
        "# Print out the gradient\n",
        "print(\"Gradient: \", gradient)"
      ]
    },
    {
      "cell_type": "markdown",
      "metadata": {
        "id": "I39HQGLKuLnP"
      },
      "source": [
        "### Question 1.3: The Neural Network Module (5 points)\n",
        "`torch.nn` provides a simple way to define neural network architectures. In this question, you will use `torch.nn` to define a simple linear model."
      ]
    },
    {
      "cell_type": "code",
      "execution_count": null,
      "metadata": {
        "colab": {
          "base_uri": "https://localhost:8080/"
        },
        "id": "jZJ3GzEpuLnP",
        "outputId": "e0286320-55b8-47ce-eefe-fc53ae5f3938"
      },
      "outputs": [
        {
          "name": "stdout",
          "output_type": "stream",
          "text": [
            "Output:  tensor([[-0.2866]], grad_fn=<AddmmBackward0>) Output Size:  torch.Size([1, 1])\n"
          ]
        }
      ],
      "source": [
        "##### Your code starts here #####\n",
        "\n",
        "# Create a Linear model using torch.nn.Linear, with input size 4 and output size 1\n",
        "linearModel = torch.nn.Linear(4, 1)\n",
        "# Create 1D input tensor of size 4\n",
        "input = torch.rand(1, 4) #adding batch size as 1 because torch.nn.Linear is modelled to work with multiple inputs.\n",
        "# Print out the output of the model given the input tensor\n",
        "output = linearModel(input)\n",
        "print(\"Output: \", output, \"Output Size: \", output.size())"
      ]
    },
    {
      "cell_type": "markdown",
      "metadata": {
        "id": "IA3CKuaDuLnP"
      },
      "source": [
        "### Question 1.4: Computing Devices (5 points)\n",
        "PyTorch allows you to run your code on different devices, such as CPUs and GPUs. In this question, we will be checking for a CUDA device (NVIDIA GPU) and move data to and from it if available (don't worry if you don't have a CUDA-compatible GPU)."
      ]
    },
    {
      "cell_type": "code",
      "execution_count": null,
      "metadata": {
        "colab": {
          "base_uri": "https://localhost:8080/"
        },
        "id": "x0dhltbduLnP",
        "outputId": "5c368105-7f78-4d9d-aa3c-8689a0e4461b"
      },
      "outputs": [
        {
          "name": "stdout",
          "output_type": "stream",
          "text": [
            "Device:  cpu\n"
          ]
        },
        {
          "data": {
            "text/plain": [
              "tensor([[0.9765, 0.6969, 0.4777, 0.5926],\n",
              "        [0.3649, 0.8785, 0.5311, 0.7301],\n",
              "        [0.8698, 0.2124, 0.9043, 0.1255],\n",
              "        [0.5234, 0.9927, 0.5572, 0.7015]])"
            ]
          },
          "execution_count": 26,
          "metadata": {},
          "output_type": "execute_result"
        }
      ],
      "source": [
        "cuda_available = torch.cuda.is_available()  # Check if a CUDA GPU is available\n",
        "\n",
        "##### Your code starts here #####\n",
        "cuda_available\n",
        "# Define the device to be used\n",
        "device = torch.device('cpu') #CPU chosen since cuda wasn't available as printed above\n",
        "# Create a 4x4 tensor and move it to the device\n",
        "input = torch.rand(4, 4)\n",
        "input.to(device)\n",
        "# Print out the tensor's device\n",
        "print(\"Device: \", input.device)\n",
        "# Move it back to the CPU device\n",
        "input.to('cpu')"
      ]
    },
    {
      "cell_type": "markdown",
      "metadata": {
        "id": "amkCxms2uLnP"
      },
      "source": [
        "## Question 2: Linear Modeling on Titanic Dataset\n",
        "\n",
        "The sinking of the Titanic is one of the most infamous shipwrecks in history.\n",
        "\n",
        "On April 15, 1912, during her maiden voyage, the widely considered “unsinkable” RMS Titanic sank after colliding with an iceberg. Unfortunately, there weren’t enough lifeboats for everyone onboard, resulting in the death of 1502 out of 2224 passengers and crew.\n",
        "\n",
        "While there was some element of luck involved in surviving, it seems some groups of people were more likely to survive than others.\n",
        "\n",
        "In this question, we ask you to build a linear model that answers the question: “what sorts of people were more likely to survive?” using passenger data (ie name, age, gender, socio-economic class, etc).\n",
        "\n",
        "![titanic.png](attachment:titanic.png)\n",
        "\n",
        "Why did Rose survive and Jack didn't? Let's find out!\n",
        "\n",
        "![titanic-meme.png](attachment:titanic-meme.png)"
      ]
    },
    {
      "cell_type": "markdown",
      "metadata": {
        "id": "Wem9mQd_uLnQ"
      },
      "source": [
        "### Question 2.1: Data Preprocessing (25 points)\n",
        "Real world data is often messy and requires preprocessing before it can be used for modeling. This procedure is ubiquitous in real-world applications and is often referred to as \"data cleaning\" and \"feature engineering\". In this question, you will preprocess the Titanic dataset. The dataset can be found in the data folder.\n",
        "\n",
        "In this question, we will be using Pandas, a powerful tool for tabular data manipulation. If you don't have it installed, you can install it by running `!pip install pandas` in a code cell.\n",
        "\n",
        "Before we start, let's load the dataset and take a look at the first few rows.\n"
      ]
    },
    {
      "cell_type": "code",
      "execution_count": null,
      "metadata": {
        "colab": {
          "base_uri": "https://localhost:8080/"
        },
        "id": "VWnhEBCZuLnQ",
        "outputId": "4fe9f5c7-ad0e-4a3b-b812-26243a251dd4"
      },
      "outputs": [
        {
          "name": "stdout",
          "output_type": "stream",
          "text": [
            "Index(['PassengerId', 'Survived', 'Pclass', 'Name', 'Sex', 'Age', 'SibSp',\n",
            "       'Parch', 'Ticket', 'Fare', 'Cabin', 'Embarked'],\n",
            "      dtype='object')\n",
            "(891, 12)\n",
            "   PassengerId  Survived  Pclass  \\\n",
            "0            1         0       3   \n",
            "1            2         1       1   \n",
            "2            3         1       3   \n",
            "3            4         1       1   \n",
            "4            5         0       3   \n",
            "\n",
            "                                                Name     Sex   Age  SibSp  \\\n",
            "0                            Braund, Mr. Owen Harris    male  22.0      1   \n",
            "1  Cumings, Mrs. John Bradley (Florence Briggs Th...  female  38.0      1   \n",
            "2                             Heikkinen, Miss. Laina  female  26.0      0   \n",
            "3       Futrelle, Mrs. Jacques Heath (Lily May Peel)  female  35.0      1   \n",
            "4                           Allen, Mr. William Henry    male  35.0      0   \n",
            "\n",
            "   Parch            Ticket     Fare Cabin Embarked  \n",
            "0      0         A/5 21171   7.2500   NaN        S  \n",
            "1      0          PC 17599  71.2833   C85        C  \n",
            "2      0  STON/O2. 3101282   7.9250   NaN        S  \n",
            "3      0            113803  53.1000  C123        S  \n",
            "4      0            373450   8.0500   NaN        S  \n"
          ]
        }
      ],
      "source": [
        "import pandas as pd\n",
        "\n",
        "# Load the titanic dataset\n",
        "path = \"train.csv\"\n",
        "data = pd.read_csv(path)\n",
        "\n",
        "# Print out the column names\n",
        "print(data.columns)\n",
        "\n",
        "# Print out the shape of the dataset\n",
        "print(data.shape)\n",
        "\n",
        "# Print out the first 5 rows of the dataset\n",
        "print(data.head(5))"
      ]
    },
    {
      "cell_type": "markdown",
      "metadata": {
        "id": "mrvEG-DxuLnQ"
      },
      "source": [
        "Here's some information about the columns in the dataset:\n",
        "* PassengerId: Unique identifier for each passenger (index, not predictive).\n",
        "* Survived: Target variable (0 = did not survive, 1 = survived).\n",
        "* Pclass: Travel class (1 = upper, 2 = middle, 3 = lower).\n",
        "* Name: Full name, may contain titles indicating social status.\n",
        "* Sex: Gender of the passenger (male/female).\n",
        "* Age: Passenger's age in years (missing values exist).\n",
        "* SibSp: Number of siblings/spouses aboard.\n",
        "* Parch: Number of parents/children aboard.\n",
        "* Ticket: Ticket number (possible grouping or class info).\n",
        "* Fare: Ticket fare paid (proxy for socio-economic status).\n",
        "* Cabin: Cabin number (location on ship, many missing values).\n",
        "* Embarked: Port of boarding (C = Cherbourg, Q = Queenstown, S = Southampton).\n",
        "\n",
        "Based on your intuition, do you think all of the columns are useful for predicting survival? If not, which columns can be dropped? (Answer in the markdown cell below)\n"
      ]
    },
    {
      "cell_type": "markdown",
      "metadata": {
        "id": "--vNauMKuLnQ"
      },
      "source": [
        "The following columns are insignificant in the prediction of passenger survival and can be dropped:\n",
        "\n",
        "- Ticket - Grouping makes the data noisy and therefore, it is not likely ot be helpful.\n",
        "- Cabin - Data can be sparse because of the missing values.\n",
        "- PassengerId - Since it is just an index.\n",
        "- Name - The titles in name can be useful however, eventually in the code, we are not doing any feature engineering and just the names without titles would be useless. In that case, we also drop the Name column."
      ]
    },
    {
      "cell_type": "markdown",
      "metadata": {
        "id": "hLo96lIjuLnQ"
      },
      "source": [
        "Building on your previous answer, drop the columns that you think are not useful for predicting survival."
      ]
    },
    {
      "cell_type": "code",
      "execution_count": null,
      "metadata": {
        "id": "uKwTPt4FuLnQ"
      },
      "outputs": [],
      "source": [
        "##### Your code starts here #####\n",
        "\n",
        "# Drop unnecessary columns\n",
        "data = data.drop(['Ticket', 'Cabin', 'PassengerId', 'Name'], axis=1)"
      ]
    },
    {
      "cell_type": "markdown",
      "metadata": {
        "id": "iQEfWFaIuLnQ"
      },
      "source": [
        "Some of the columns in the dataset seems to have missing values, why and how would you handle missing values in the dataset? Try to propose other ways compared to the method below. (Answer in the markdown cell below)"
      ]
    },
    {
      "cell_type": "markdown",
      "metadata": {
        "id": "W29GR8TFuLnQ"
      },
      "source": [
        "Missing values need to be handled to ensure consistency in the dataset.\n",
        "\n",
        "They can introduce noise or bias in the dataset and can evetually lead to inaccurate predictions or loss of information.\n",
        "\n",
        "\n",
        "Some methods we can use are:\n",
        "- Replace with 'na' indicating a missing value.\n",
        "- If it does not lead to sparsity, rows with missing values can be deleted.\n"
      ]
    },
    {
      "cell_type": "markdown",
      "metadata": {
        "id": "l51JxnckuLnQ"
      },
      "source": [
        "For now, we use the median value to fill the missing numerical values, and the most frequent value to fill the missing categorical values."
      ]
    },
    {
      "cell_type": "code",
      "execution_count": null,
      "metadata": {
        "colab": {
          "base_uri": "https://localhost:8080/"
        },
        "id": "GaejAIoiuLnQ",
        "outputId": "fe0bf09d-aaf7-48c2-9ec7-2b596deb4df6"
      },
      "outputs": [
        {
          "name": "stdout",
          "output_type": "stream",
          "text": [
            "Missing values in age:  0\n",
            "Missing values in Embarked:  0\n"
          ]
        }
      ],
      "source": [
        "# Fill missing values in the \"Age\" column with the median age\n",
        "median_age = data['Age'].median()\n",
        "data['Age'] = data['Age'].fillna(median_age)\n",
        "print(\"Missing values in age: \", data['Age'].isnull().sum())\n",
        "# Fill missing values in the \"Embarked\" column with the most common port\n",
        "mode_embarked = data['Embarked'].mode()[0]\n",
        "data['Embarked'] = data['Embarked'].fillna(mode_embarked)\n",
        "print(\"Missing values in Embarked: \", data['Embarked'].isnull().sum())"
      ]
    },
    {
      "cell_type": "markdown",
      "metadata": {
        "id": "pGX6mdghuLnQ"
      },
      "source": [
        "Lastly, we know that computers can't handle textural data directly, so we need to convert the categorical columns into numerical columns. One common way to do this is by using one-hot encoding. It creates an one-to-one mapping between the categorical values and the numerical values."
      ]
    },
    {
      "cell_type": "code",
      "execution_count": null,
      "metadata": {
        "colab": {
          "base_uri": "https://localhost:8080/",
          "height": 423
        },
        "id": "7CploVNEuLnQ",
        "outputId": "9325f6e9-8d50-4cc3-c616-1a378a345d3c"
      },
      "outputs": [
        {
          "data": {
            "application/vnd.google.colaboratory.intrinsic+json": {
              "summary": "{\n  \"name\": \"data\",\n  \"rows\": 891,\n  \"fields\": [\n    {\n      \"column\": \"Survived\",\n      \"properties\": {\n        \"dtype\": \"number\",\n        \"std\": 0,\n        \"min\": 0,\n        \"max\": 1,\n        \"num_unique_values\": 2,\n        \"samples\": [\n          1,\n          0\n        ],\n        \"semantic_type\": \"\",\n        \"description\": \"\"\n      }\n    },\n    {\n      \"column\": \"Pclass\",\n      \"properties\": {\n        \"dtype\": \"number\",\n        \"std\": 0,\n        \"min\": 1,\n        \"max\": 3,\n        \"num_unique_values\": 3,\n        \"samples\": [\n          3,\n          1\n        ],\n        \"semantic_type\": \"\",\n        \"description\": \"\"\n      }\n    },\n    {\n      \"column\": \"Age\",\n      \"properties\": {\n        \"dtype\": \"number\",\n        \"std\": 13.019696550973194,\n        \"min\": 0.42,\n        \"max\": 80.0,\n        \"num_unique_values\": 88,\n        \"samples\": [\n          0.75,\n          22.0\n        ],\n        \"semantic_type\": \"\",\n        \"description\": \"\"\n      }\n    },\n    {\n      \"column\": \"SibSp\",\n      \"properties\": {\n        \"dtype\": \"number\",\n        \"std\": 1,\n        \"min\": 0,\n        \"max\": 8,\n        \"num_unique_values\": 7,\n        \"samples\": [\n          1,\n          0\n        ],\n        \"semantic_type\": \"\",\n        \"description\": \"\"\n      }\n    },\n    {\n      \"column\": \"Parch\",\n      \"properties\": {\n        \"dtype\": \"number\",\n        \"std\": 0,\n        \"min\": 0,\n        \"max\": 6,\n        \"num_unique_values\": 7,\n        \"samples\": [\n          0,\n          1\n        ],\n        \"semantic_type\": \"\",\n        \"description\": \"\"\n      }\n    },\n    {\n      \"column\": \"Fare\",\n      \"properties\": {\n        \"dtype\": \"number\",\n        \"std\": 49.693428597180905,\n        \"min\": 0.0,\n        \"max\": 512.3292,\n        \"num_unique_values\": 248,\n        \"samples\": [\n          11.2417,\n          51.8625\n        ],\n        \"semantic_type\": \"\",\n        \"description\": \"\"\n      }\n    },\n    {\n      \"column\": \"Embarked_C\",\n      \"properties\": {\n        \"dtype\": \"boolean\",\n        \"num_unique_values\": 2,\n        \"samples\": [\n          true,\n          false\n        ],\n        \"semantic_type\": \"\",\n        \"description\": \"\"\n      }\n    },\n    {\n      \"column\": \"Embarked_Q\",\n      \"properties\": {\n        \"dtype\": \"boolean\",\n        \"num_unique_values\": 2,\n        \"samples\": [\n          true,\n          false\n        ],\n        \"semantic_type\": \"\",\n        \"description\": \"\"\n      }\n    },\n    {\n      \"column\": \"Embarked_S\",\n      \"properties\": {\n        \"dtype\": \"boolean\",\n        \"num_unique_values\": 2,\n        \"samples\": [\n          false,\n          true\n        ],\n        \"semantic_type\": \"\",\n        \"description\": \"\"\n      }\n    },\n    {\n      \"column\": \"Sex_female\",\n      \"properties\": {\n        \"dtype\": \"boolean\",\n        \"num_unique_values\": 2,\n        \"samples\": [\n          true,\n          false\n        ],\n        \"semantic_type\": \"\",\n        \"description\": \"\"\n      }\n    },\n    {\n      \"column\": \"Sex_male\",\n      \"properties\": {\n        \"dtype\": \"boolean\",\n        \"num_unique_values\": 2,\n        \"samples\": [\n          false,\n          true\n        ],\n        \"semantic_type\": \"\",\n        \"description\": \"\"\n      }\n    }\n  ]\n}",
              "type": "dataframe",
              "variable_name": "data"
            },
            "text/html": [
              "\n",
              "  <div id=\"df-bfb52406-a537-4666-a93b-f13528bc1ded\" class=\"colab-df-container\">\n",
              "    <div>\n",
              "<style scoped>\n",
              "    .dataframe tbody tr th:only-of-type {\n",
              "        vertical-align: middle;\n",
              "    }\n",
              "\n",
              "    .dataframe tbody tr th {\n",
              "        vertical-align: top;\n",
              "    }\n",
              "\n",
              "    .dataframe thead th {\n",
              "        text-align: right;\n",
              "    }\n",
              "</style>\n",
              "<table border=\"1\" class=\"dataframe\">\n",
              "  <thead>\n",
              "    <tr style=\"text-align: right;\">\n",
              "      <th></th>\n",
              "      <th>Survived</th>\n",
              "      <th>Pclass</th>\n",
              "      <th>Age</th>\n",
              "      <th>SibSp</th>\n",
              "      <th>Parch</th>\n",
              "      <th>Fare</th>\n",
              "      <th>Embarked_C</th>\n",
              "      <th>Embarked_Q</th>\n",
              "      <th>Embarked_S</th>\n",
              "      <th>Sex_female</th>\n",
              "      <th>Sex_male</th>\n",
              "    </tr>\n",
              "  </thead>\n",
              "  <tbody>\n",
              "    <tr>\n",
              "      <th>0</th>\n",
              "      <td>0</td>\n",
              "      <td>3</td>\n",
              "      <td>22.0</td>\n",
              "      <td>1</td>\n",
              "      <td>0</td>\n",
              "      <td>7.2500</td>\n",
              "      <td>False</td>\n",
              "      <td>False</td>\n",
              "      <td>True</td>\n",
              "      <td>False</td>\n",
              "      <td>True</td>\n",
              "    </tr>\n",
              "    <tr>\n",
              "      <th>1</th>\n",
              "      <td>1</td>\n",
              "      <td>1</td>\n",
              "      <td>38.0</td>\n",
              "      <td>1</td>\n",
              "      <td>0</td>\n",
              "      <td>71.2833</td>\n",
              "      <td>True</td>\n",
              "      <td>False</td>\n",
              "      <td>False</td>\n",
              "      <td>True</td>\n",
              "      <td>False</td>\n",
              "    </tr>\n",
              "    <tr>\n",
              "      <th>2</th>\n",
              "      <td>1</td>\n",
              "      <td>3</td>\n",
              "      <td>26.0</td>\n",
              "      <td>0</td>\n",
              "      <td>0</td>\n",
              "      <td>7.9250</td>\n",
              "      <td>False</td>\n",
              "      <td>False</td>\n",
              "      <td>True</td>\n",
              "      <td>True</td>\n",
              "      <td>False</td>\n",
              "    </tr>\n",
              "    <tr>\n",
              "      <th>3</th>\n",
              "      <td>1</td>\n",
              "      <td>1</td>\n",
              "      <td>35.0</td>\n",
              "      <td>1</td>\n",
              "      <td>0</td>\n",
              "      <td>53.1000</td>\n",
              "      <td>False</td>\n",
              "      <td>False</td>\n",
              "      <td>True</td>\n",
              "      <td>True</td>\n",
              "      <td>False</td>\n",
              "    </tr>\n",
              "    <tr>\n",
              "      <th>4</th>\n",
              "      <td>0</td>\n",
              "      <td>3</td>\n",
              "      <td>35.0</td>\n",
              "      <td>0</td>\n",
              "      <td>0</td>\n",
              "      <td>8.0500</td>\n",
              "      <td>False</td>\n",
              "      <td>False</td>\n",
              "      <td>True</td>\n",
              "      <td>False</td>\n",
              "      <td>True</td>\n",
              "    </tr>\n",
              "    <tr>\n",
              "      <th>...</th>\n",
              "      <td>...</td>\n",
              "      <td>...</td>\n",
              "      <td>...</td>\n",
              "      <td>...</td>\n",
              "      <td>...</td>\n",
              "      <td>...</td>\n",
              "      <td>...</td>\n",
              "      <td>...</td>\n",
              "      <td>...</td>\n",
              "      <td>...</td>\n",
              "      <td>...</td>\n",
              "    </tr>\n",
              "    <tr>\n",
              "      <th>886</th>\n",
              "      <td>0</td>\n",
              "      <td>2</td>\n",
              "      <td>27.0</td>\n",
              "      <td>0</td>\n",
              "      <td>0</td>\n",
              "      <td>13.0000</td>\n",
              "      <td>False</td>\n",
              "      <td>False</td>\n",
              "      <td>True</td>\n",
              "      <td>False</td>\n",
              "      <td>True</td>\n",
              "    </tr>\n",
              "    <tr>\n",
              "      <th>887</th>\n",
              "      <td>1</td>\n",
              "      <td>1</td>\n",
              "      <td>19.0</td>\n",
              "      <td>0</td>\n",
              "      <td>0</td>\n",
              "      <td>30.0000</td>\n",
              "      <td>False</td>\n",
              "      <td>False</td>\n",
              "      <td>True</td>\n",
              "      <td>True</td>\n",
              "      <td>False</td>\n",
              "    </tr>\n",
              "    <tr>\n",
              "      <th>888</th>\n",
              "      <td>0</td>\n",
              "      <td>3</td>\n",
              "      <td>28.0</td>\n",
              "      <td>1</td>\n",
              "      <td>2</td>\n",
              "      <td>23.4500</td>\n",
              "      <td>False</td>\n",
              "      <td>False</td>\n",
              "      <td>True</td>\n",
              "      <td>True</td>\n",
              "      <td>False</td>\n",
              "    </tr>\n",
              "    <tr>\n",
              "      <th>889</th>\n",
              "      <td>1</td>\n",
              "      <td>1</td>\n",
              "      <td>26.0</td>\n",
              "      <td>0</td>\n",
              "      <td>0</td>\n",
              "      <td>30.0000</td>\n",
              "      <td>True</td>\n",
              "      <td>False</td>\n",
              "      <td>False</td>\n",
              "      <td>False</td>\n",
              "      <td>True</td>\n",
              "    </tr>\n",
              "    <tr>\n",
              "      <th>890</th>\n",
              "      <td>0</td>\n",
              "      <td>3</td>\n",
              "      <td>32.0</td>\n",
              "      <td>0</td>\n",
              "      <td>0</td>\n",
              "      <td>7.7500</td>\n",
              "      <td>False</td>\n",
              "      <td>True</td>\n",
              "      <td>False</td>\n",
              "      <td>False</td>\n",
              "      <td>True</td>\n",
              "    </tr>\n",
              "  </tbody>\n",
              "</table>\n",
              "<p>891 rows × 11 columns</p>\n",
              "</div>\n",
              "    <div class=\"colab-df-buttons\">\n",
              "\n",
              "  <div class=\"colab-df-container\">\n",
              "    <button class=\"colab-df-convert\" onclick=\"convertToInteractive('df-bfb52406-a537-4666-a93b-f13528bc1ded')\"\n",
              "            title=\"Convert this dataframe to an interactive table.\"\n",
              "            style=\"display:none;\">\n",
              "\n",
              "  <svg xmlns=\"http://www.w3.org/2000/svg\" height=\"24px\" viewBox=\"0 -960 960 960\">\n",
              "    <path d=\"M120-120v-720h720v720H120Zm60-500h600v-160H180v160Zm220 220h160v-160H400v160Zm0 220h160v-160H400v160ZM180-400h160v-160H180v160Zm440 0h160v-160H620v160ZM180-180h160v-160H180v160Zm440 0h160v-160H620v160Z\"/>\n",
              "  </svg>\n",
              "    </button>\n",
              "\n",
              "  <style>\n",
              "    .colab-df-container {\n",
              "      display:flex;\n",
              "      gap: 12px;\n",
              "    }\n",
              "\n",
              "    .colab-df-convert {\n",
              "      background-color: #E8F0FE;\n",
              "      border: none;\n",
              "      border-radius: 50%;\n",
              "      cursor: pointer;\n",
              "      display: none;\n",
              "      fill: #1967D2;\n",
              "      height: 32px;\n",
              "      padding: 0 0 0 0;\n",
              "      width: 32px;\n",
              "    }\n",
              "\n",
              "    .colab-df-convert:hover {\n",
              "      background-color: #E2EBFA;\n",
              "      box-shadow: 0px 1px 2px rgba(60, 64, 67, 0.3), 0px 1px 3px 1px rgba(60, 64, 67, 0.15);\n",
              "      fill: #174EA6;\n",
              "    }\n",
              "\n",
              "    .colab-df-buttons div {\n",
              "      margin-bottom: 4px;\n",
              "    }\n",
              "\n",
              "    [theme=dark] .colab-df-convert {\n",
              "      background-color: #3B4455;\n",
              "      fill: #D2E3FC;\n",
              "    }\n",
              "\n",
              "    [theme=dark] .colab-df-convert:hover {\n",
              "      background-color: #434B5C;\n",
              "      box-shadow: 0px 1px 3px 1px rgba(0, 0, 0, 0.15);\n",
              "      filter: drop-shadow(0px 1px 2px rgba(0, 0, 0, 0.3));\n",
              "      fill: #FFFFFF;\n",
              "    }\n",
              "  </style>\n",
              "\n",
              "    <script>\n",
              "      const buttonEl =\n",
              "        document.querySelector('#df-bfb52406-a537-4666-a93b-f13528bc1ded button.colab-df-convert');\n",
              "      buttonEl.style.display =\n",
              "        google.colab.kernel.accessAllowed ? 'block' : 'none';\n",
              "\n",
              "      async function convertToInteractive(key) {\n",
              "        const element = document.querySelector('#df-bfb52406-a537-4666-a93b-f13528bc1ded');\n",
              "        const dataTable =\n",
              "          await google.colab.kernel.invokeFunction('convertToInteractive',\n",
              "                                                    [key], {});\n",
              "        if (!dataTable) return;\n",
              "\n",
              "        const docLinkHtml = 'Like what you see? Visit the ' +\n",
              "          '<a target=\"_blank\" href=https://colab.research.google.com/notebooks/data_table.ipynb>data table notebook</a>'\n",
              "          + ' to learn more about interactive tables.';\n",
              "        element.innerHTML = '';\n",
              "        dataTable['output_type'] = 'display_data';\n",
              "        await google.colab.output.renderOutput(dataTable, element);\n",
              "        const docLink = document.createElement('div');\n",
              "        docLink.innerHTML = docLinkHtml;\n",
              "        element.appendChild(docLink);\n",
              "      }\n",
              "    </script>\n",
              "  </div>\n",
              "\n",
              "\n",
              "<div id=\"df-5531aedc-f0a3-4cb5-b8c0-fd92ce25732f\">\n",
              "  <button class=\"colab-df-quickchart\" onclick=\"quickchart('df-5531aedc-f0a3-4cb5-b8c0-fd92ce25732f')\"\n",
              "            title=\"Suggest charts\"\n",
              "            style=\"display:none;\">\n",
              "\n",
              "<svg xmlns=\"http://www.w3.org/2000/svg\" height=\"24px\"viewBox=\"0 0 24 24\"\n",
              "     width=\"24px\">\n",
              "    <g>\n",
              "        <path d=\"M19 3H5c-1.1 0-2 .9-2 2v14c0 1.1.9 2 2 2h14c1.1 0 2-.9 2-2V5c0-1.1-.9-2-2-2zM9 17H7v-7h2v7zm4 0h-2V7h2v10zm4 0h-2v-4h2v4z\"/>\n",
              "    </g>\n",
              "</svg>\n",
              "  </button>\n",
              "\n",
              "<style>\n",
              "  .colab-df-quickchart {\n",
              "      --bg-color: #E8F0FE;\n",
              "      --fill-color: #1967D2;\n",
              "      --hover-bg-color: #E2EBFA;\n",
              "      --hover-fill-color: #174EA6;\n",
              "      --disabled-fill-color: #AAA;\n",
              "      --disabled-bg-color: #DDD;\n",
              "  }\n",
              "\n",
              "  [theme=dark] .colab-df-quickchart {\n",
              "      --bg-color: #3B4455;\n",
              "      --fill-color: #D2E3FC;\n",
              "      --hover-bg-color: #434B5C;\n",
              "      --hover-fill-color: #FFFFFF;\n",
              "      --disabled-bg-color: #3B4455;\n",
              "      --disabled-fill-color: #666;\n",
              "  }\n",
              "\n",
              "  .colab-df-quickchart {\n",
              "    background-color: var(--bg-color);\n",
              "    border: none;\n",
              "    border-radius: 50%;\n",
              "    cursor: pointer;\n",
              "    display: none;\n",
              "    fill: var(--fill-color);\n",
              "    height: 32px;\n",
              "    padding: 0;\n",
              "    width: 32px;\n",
              "  }\n",
              "\n",
              "  .colab-df-quickchart:hover {\n",
              "    background-color: var(--hover-bg-color);\n",
              "    box-shadow: 0 1px 2px rgba(60, 64, 67, 0.3), 0 1px 3px 1px rgba(60, 64, 67, 0.15);\n",
              "    fill: var(--button-hover-fill-color);\n",
              "  }\n",
              "\n",
              "  .colab-df-quickchart-complete:disabled,\n",
              "  .colab-df-quickchart-complete:disabled:hover {\n",
              "    background-color: var(--disabled-bg-color);\n",
              "    fill: var(--disabled-fill-color);\n",
              "    box-shadow: none;\n",
              "  }\n",
              "\n",
              "  .colab-df-spinner {\n",
              "    border: 2px solid var(--fill-color);\n",
              "    border-color: transparent;\n",
              "    border-bottom-color: var(--fill-color);\n",
              "    animation:\n",
              "      spin 1s steps(1) infinite;\n",
              "  }\n",
              "\n",
              "  @keyframes spin {\n",
              "    0% {\n",
              "      border-color: transparent;\n",
              "      border-bottom-color: var(--fill-color);\n",
              "      border-left-color: var(--fill-color);\n",
              "    }\n",
              "    20% {\n",
              "      border-color: transparent;\n",
              "      border-left-color: var(--fill-color);\n",
              "      border-top-color: var(--fill-color);\n",
              "    }\n",
              "    30% {\n",
              "      border-color: transparent;\n",
              "      border-left-color: var(--fill-color);\n",
              "      border-top-color: var(--fill-color);\n",
              "      border-right-color: var(--fill-color);\n",
              "    }\n",
              "    40% {\n",
              "      border-color: transparent;\n",
              "      border-right-color: var(--fill-color);\n",
              "      border-top-color: var(--fill-color);\n",
              "    }\n",
              "    60% {\n",
              "      border-color: transparent;\n",
              "      border-right-color: var(--fill-color);\n",
              "    }\n",
              "    80% {\n",
              "      border-color: transparent;\n",
              "      border-right-color: var(--fill-color);\n",
              "      border-bottom-color: var(--fill-color);\n",
              "    }\n",
              "    90% {\n",
              "      border-color: transparent;\n",
              "      border-bottom-color: var(--fill-color);\n",
              "    }\n",
              "  }\n",
              "</style>\n",
              "\n",
              "  <script>\n",
              "    async function quickchart(key) {\n",
              "      const quickchartButtonEl =\n",
              "        document.querySelector('#' + key + ' button');\n",
              "      quickchartButtonEl.disabled = true;  // To prevent multiple clicks.\n",
              "      quickchartButtonEl.classList.add('colab-df-spinner');\n",
              "      try {\n",
              "        const charts = await google.colab.kernel.invokeFunction(\n",
              "            'suggestCharts', [key], {});\n",
              "      } catch (error) {\n",
              "        console.error('Error during call to suggestCharts:', error);\n",
              "      }\n",
              "      quickchartButtonEl.classList.remove('colab-df-spinner');\n",
              "      quickchartButtonEl.classList.add('colab-df-quickchart-complete');\n",
              "    }\n",
              "    (() => {\n",
              "      let quickchartButtonEl =\n",
              "        document.querySelector('#df-5531aedc-f0a3-4cb5-b8c0-fd92ce25732f button');\n",
              "      quickchartButtonEl.style.display =\n",
              "        google.colab.kernel.accessAllowed ? 'block' : 'none';\n",
              "    })();\n",
              "  </script>\n",
              "</div>\n",
              "\n",
              "  <div id=\"id_90baef37-f3a5-4317-87a9-1c921f2908e1\">\n",
              "    <style>\n",
              "      .colab-df-generate {\n",
              "        background-color: #E8F0FE;\n",
              "        border: none;\n",
              "        border-radius: 50%;\n",
              "        cursor: pointer;\n",
              "        display: none;\n",
              "        fill: #1967D2;\n",
              "        height: 32px;\n",
              "        padding: 0 0 0 0;\n",
              "        width: 32px;\n",
              "      }\n",
              "\n",
              "      .colab-df-generate:hover {\n",
              "        background-color: #E2EBFA;\n",
              "        box-shadow: 0px 1px 2px rgba(60, 64, 67, 0.3), 0px 1px 3px 1px rgba(60, 64, 67, 0.15);\n",
              "        fill: #174EA6;\n",
              "      }\n",
              "\n",
              "      [theme=dark] .colab-df-generate {\n",
              "        background-color: #3B4455;\n",
              "        fill: #D2E3FC;\n",
              "      }\n",
              "\n",
              "      [theme=dark] .colab-df-generate:hover {\n",
              "        background-color: #434B5C;\n",
              "        box-shadow: 0px 1px 3px 1px rgba(0, 0, 0, 0.15);\n",
              "        filter: drop-shadow(0px 1px 2px rgba(0, 0, 0, 0.3));\n",
              "        fill: #FFFFFF;\n",
              "      }\n",
              "    </style>\n",
              "    <button class=\"colab-df-generate\" onclick=\"generateWithVariable('data')\"\n",
              "            title=\"Generate code using this dataframe.\"\n",
              "            style=\"display:none;\">\n",
              "\n",
              "  <svg xmlns=\"http://www.w3.org/2000/svg\" height=\"24px\"viewBox=\"0 0 24 24\"\n",
              "       width=\"24px\">\n",
              "    <path d=\"M7,19H8.4L18.45,9,17,7.55,7,17.6ZM5,21V16.75L18.45,3.32a2,2,0,0,1,2.83,0l1.4,1.43a1.91,1.91,0,0,1,.58,1.4,1.91,1.91,0,0,1-.58,1.4L9.25,21ZM18.45,9,17,7.55Zm-12,3A5.31,5.31,0,0,0,4.9,8.1,5.31,5.31,0,0,0,1,6.5,5.31,5.31,0,0,0,4.9,4.9,5.31,5.31,0,0,0,6.5,1,5.31,5.31,0,0,0,8.1,4.9,5.31,5.31,0,0,0,12,6.5,5.46,5.46,0,0,0,6.5,12Z\"/>\n",
              "  </svg>\n",
              "    </button>\n",
              "    <script>\n",
              "      (() => {\n",
              "      const buttonEl =\n",
              "        document.querySelector('#id_90baef37-f3a5-4317-87a9-1c921f2908e1 button.colab-df-generate');\n",
              "      buttonEl.style.display =\n",
              "        google.colab.kernel.accessAllowed ? 'block' : 'none';\n",
              "\n",
              "      buttonEl.onclick = () => {\n",
              "        google.colab.notebook.generateWithVariable('data');\n",
              "      }\n",
              "      })();\n",
              "    </script>\n",
              "  </div>\n",
              "\n",
              "    </div>\n",
              "  </div>\n"
            ],
            "text/plain": [
              "     Survived  Pclass   Age  SibSp  Parch     Fare  Embarked_C  Embarked_Q  \\\n",
              "0           0       3  22.0      1      0   7.2500       False       False   \n",
              "1           1       1  38.0      1      0  71.2833        True       False   \n",
              "2           1       3  26.0      0      0   7.9250       False       False   \n",
              "3           1       1  35.0      1      0  53.1000       False       False   \n",
              "4           0       3  35.0      0      0   8.0500       False       False   \n",
              "..        ...     ...   ...    ...    ...      ...         ...         ...   \n",
              "886         0       2  27.0      0      0  13.0000       False       False   \n",
              "887         1       1  19.0      0      0  30.0000       False       False   \n",
              "888         0       3  28.0      1      2  23.4500       False       False   \n",
              "889         1       1  26.0      0      0  30.0000        True       False   \n",
              "890         0       3  32.0      0      0   7.7500       False        True   \n",
              "\n",
              "     Embarked_S  Sex_female  Sex_male  \n",
              "0          True       False      True  \n",
              "1         False        True     False  \n",
              "2          True        True     False  \n",
              "3          True        True     False  \n",
              "4          True       False      True  \n",
              "..          ...         ...       ...  \n",
              "886        True       False      True  \n",
              "887        True        True     False  \n",
              "888        True        True     False  \n",
              "889       False       False      True  \n",
              "890       False       False      True  \n",
              "\n",
              "[891 rows x 11 columns]"
            ]
          },
          "execution_count": 30,
          "metadata": {},
          "output_type": "execute_result"
        }
      ],
      "source": [
        "# one-hot encoding on the categorical columns\n",
        "data = pd.get_dummies(data, columns = ['Embarked', 'Sex'])\n",
        "data"
      ]
    },
    {
      "cell_type": "markdown",
      "metadata": {
        "id": "FIZTGuleuLnQ"
      },
      "source": [
        "Before we can use this data for training, we should split the data into features and target. In addition, you need to make sure that your dataset has no missing values and all columns are numerical."
      ]
    },
    {
      "cell_type": "code",
      "execution_count": null,
      "metadata": {
        "colab": {
          "base_uri": "https://localhost:8080/"
        },
        "id": "b8hqMWLtuLnQ",
        "outputId": "b313739b-d73a-4ded-94fa-e60c179ca065"
      },
      "outputs": [
        {
          "name": "stdout",
          "output_type": "stream",
          "text": [
            "0\n",
            "Survived        int64\n",
            "Pclass          int64\n",
            "Age           float64\n",
            "SibSp           int64\n",
            "Parch           int64\n",
            "Fare          float64\n",
            "Embarked_C       bool\n",
            "Embarked_Q       bool\n",
            "Embarked_S       bool\n",
            "Sex_female       bool\n",
            "Sex_male         bool\n",
            "dtype: object\n"
          ]
        }
      ],
      "source": [
        "X = data.drop(columns=[\"Survived\"]) # features\n",
        "y = data[\"Survived\"]                # target\n",
        "\n",
        "# Check if there are any missing values in the dataset\n",
        "print(data.isnull().sum().sum())    # this should return 0\n",
        "\n",
        "# Check if all columns are numeric\n",
        "print(data.dtypes)                  # all columns should be numeric (or boolean)"
      ]
    },
    {
      "cell_type": "markdown",
      "metadata": {
        "id": "3H-uAy5VuLnR"
      },
      "source": [
        "Now let's do the same for our test dataset."
      ]
    },
    {
      "cell_type": "code",
      "execution_count": null,
      "metadata": {
        "colab": {
          "base_uri": "https://localhost:8080/"
        },
        "id": "Z45oWWsbuLnR",
        "outputId": "d4da6dab-e1e4-4fa6-b318-d74a73afcbaf"
      },
      "outputs": [
        {
          "name": "stdout",
          "output_type": "stream",
          "text": [
            "Index(['PassengerId', 'Pclass', 'Name', 'Sex', 'Age', 'SibSp', 'Parch',\n",
            "       'Ticket', 'Fare', 'Cabin', 'Embarked', 'Survived'],\n",
            "      dtype='object')\n",
            "(418, 12)\n",
            "   PassengerId  Pclass                                          Name     Sex  \\\n",
            "0          892       3                              Kelly, Mr. James    male   \n",
            "1          893       3              Wilkes, Mrs. James (Ellen Needs)  female   \n",
            "2          894       2                     Myles, Mr. Thomas Francis    male   \n",
            "3          895       3                              Wirz, Mr. Albert    male   \n",
            "4          896       3  Hirvonen, Mrs. Alexander (Helga E Lindqvist)  female   \n",
            "\n",
            "    Age  SibSp  Parch   Ticket     Fare Cabin Embarked  Survived  \n",
            "0  34.5      0      0   330911   7.8292   NaN        Q         0  \n",
            "1  47.0      1      0   363272   7.0000   NaN        S         1  \n",
            "2  62.0      0      0   240276   9.6875   NaN        Q         0  \n",
            "3  27.0      0      0   315154   8.6625   NaN        S         0  \n",
            "4  22.0      1      1  3101298  12.2875   NaN        S         1  \n",
            "Missing Values in data:  Pclass       0\n",
            "Sex          0\n",
            "Age         86\n",
            "SibSp        0\n",
            "Parch        0\n",
            "Fare         1\n",
            "Embarked     0\n",
            "Survived     0\n",
            "dtype: int64\n",
            "Missing values in age:  0\n",
            "Missing values in Fare:  0\n",
            "Missing values after pre-processing:  0\n",
            "Survived        int64\n",
            "Pclass          int64\n",
            "Age           float64\n",
            "SibSp           int64\n",
            "Parch           int64\n",
            "Fare          float64\n",
            "Embarked_C       bool\n",
            "Embarked_Q       bool\n",
            "Embarked_S       bool\n",
            "Sex_female       bool\n",
            "Sex_male         bool\n",
            "dtype: object\n"
          ]
        }
      ],
      "source": [
        "path = \"test.csv\"\n",
        "test_data = pd.read_csv(path)\n",
        "target_path = \"gender_submission.csv\"\n",
        "target = pd.read_csv(target_path)\n",
        "# Merge the test data with the target data\n",
        "test_data = pd.merge(test_data, target, on=\"PassengerId\")\n",
        "\n",
        "# Same preprocessing steps for the test set\n",
        "print(test_data.columns)\n",
        "print(test_data.shape)\n",
        "print(test_data.head(5))\n",
        "# Drop unnecessary columns\n",
        "test_data = test_data.drop(columns=['PassengerId','Name', 'Ticket', 'Cabin'])\n",
        "# Fill missing values\n",
        "print(\"Missing Values in data: \", test_data.isnull().sum())\n",
        "median_testAge = test_data['Age'].median()\n",
        "test_data['Age']= test_data['Age'].fillna(median_testAge)\n",
        "print(\"Missing values in age: \", test_data['Age'].isnull().sum())\n",
        "\n",
        "median_testFare = test_data['Fare'].median()\n",
        "test_data['Fare'] = test_data['Fare'].fillna(median_testFare)\n",
        "print(\"Missing values in Fare: \", test_data['Fare'].isnull().sum())\n",
        "# Do one-hot encoding\n",
        "test_data = pd.get_dummies(test_data, columns=['Sex', 'Embarked'])\n",
        "\n",
        "# Split the test set into features and target\n",
        "X_test = data.drop(columns=[\"Survived\"]) # features\n",
        "y_test = data[\"Survived\"]                # target\n",
        "# Check for missing values\n",
        "print(\"Missing values after pre-processing: \", data.isnull().sum().sum())\n",
        "# Check for non-numeric columns\n",
        "print(data.dtypes)"
      ]
    },
    {
      "cell_type": "markdown",
      "metadata": {
        "id": "qrAA0xWiuLnR"
      },
      "source": [
        "Lastly, we convert the data into PyTorch tensors before giving it to our model."
      ]
    },
    {
      "cell_type": "code",
      "execution_count": null,
      "metadata": {
        "id": "wwu-9n3huLnR"
      },
      "outputs": [],
      "source": [
        "# Convert the data to PyTorch tensors\n",
        "X = X.to_numpy(dtype=np.float32)\n",
        "X_tensor = torch.tensor(X, dtype=torch.float32)\n",
        "y_tensor = torch.tensor(y.values, dtype=torch.float32).view(-1, 1)\n",
        "\n",
        "# Convert the test data as well\n",
        "X_test = X_test.to_numpy(dtype=np.float32)\n",
        "X_test_tensor = torch.tensor(X_test, dtype=torch.float32)\n",
        "y_test_tensor = torch.tensor(y_test.values, dtype=torch.float32).view(-1, 1)"
      ]
    },
    {
      "cell_type": "markdown",
      "metadata": {
        "id": "Ci8e2WpduLnS"
      },
      "source": [
        "### Question 2.2: Building a Linear Model (10 points)\n",
        "In this question, you will build a linear model using PyTorch to predict the survival of passengers on the Titanic. Note that the input to the model should be the features of the passengers and the output should be the predicted survival status of the passengers.\n",
        "\n",
        "Take a look at the skeleton code below, you will see that this class inherits from `torch.nn.Module` and has a method called `forward`. You will see this structure in almost all PyTorch model implementations."
      ]
    },
    {
      "cell_type": "code",
      "execution_count": null,
      "metadata": {
        "id": "RzH6a06luLnS"
      },
      "outputs": [],
      "source": [
        "class LinearModel(torch.nn.Module):\n",
        "    def __init__(self, input_dim):\n",
        "        \"\"\"\n",
        "        Model initialized with the dimension of the input features\n",
        "        \"\"\"\n",
        "        super(LinearModel, self).__init__()\n",
        "        # Define some basic linear layers\n",
        "        self.linear = torch.nn.Linear(input_dim, 1)\n",
        "        self.activation = torch.nn.Sigmoid()\n",
        "\n",
        "    def forward(self, x):\n",
        "        \"\"\"\n",
        "        The forward pass of the model\n",
        "        \"\"\"\n",
        "        # Implement the forward method\n",
        "        output = self.linear(x)\n",
        "        output = self.activation(output)\n",
        "        return output"
      ]
    },
    {
      "cell_type": "markdown",
      "metadata": {
        "id": "dNMNmvJxuLnS"
      },
      "source": [
        "### Question 2.3: Training the Model (10 points)\n",
        "In this question, you will train the model using the training data. Training a model typically involves 4 essential components:\n",
        "\n",
        "* model\n",
        "* training data\n",
        "* loss function: target function for the model to minimize\n",
        "* optimizer: the algorithm to update the model parameters\n",
        "\n",
        "This is true for almost all machine learning systems, from simple linear regressors to large language models with billions of parameters. Thus, it is essential for you to understand what each of these components do.\n",
        "\n",
        "We have defined the model and processed the training data, now let's define a loss function and an optimizer. Since we are essentially performing binary classification, we will use the binary cross-entropy loss function. In addition, we will use the Adam optimizer to update the model parameters."
      ]
    },
    {
      "cell_type": "code",
      "execution_count": null,
      "metadata": {
        "id": "5LxI8SrTuLnS"
      },
      "outputs": [],
      "source": [
        "# Instantiate the model\n",
        "model = LinearModel(X_tensor.shape[1])\n",
        "# Define loss function\n",
        "criterion = torch.nn.BCELoss()\n",
        "# Define optimizer\n",
        "optimizer = torch.optim.Adam(model.parameters(), lr=0.001)"
      ]
    },
    {
      "cell_type": "markdown",
      "metadata": {
        "id": "VqXcXykYuLnS"
      },
      "source": [
        "Now let's implement the training loop to start training the model. Why do we need to train the model on the same data for multiple times (epochs)? (Answer in the markdown cell below)"
      ]
    },
    {
      "cell_type": "markdown",
      "metadata": {
        "id": "1N98DJ5-uLnS"
      },
      "source": [
        "At every epoch, the model calculates the loss function and updates it's parameters accordingly to increase accuracy. Thus, while the first epoch has a more abstract prediction, it gets more precise with every epoch."
      ]
    },
    {
      "cell_type": "code",
      "execution_count": null,
      "metadata": {
        "colab": {
          "base_uri": "https://localhost:8080/"
        },
        "id": "RU7sI22nuLnS",
        "outputId": "68f9d8bb-c787-4b1b-9306-61bae31a6fcf"
      },
      "outputs": [
        {
          "name": "stdout",
          "output_type": "stream",
          "text": [
            "Epoch: 10 Loss: 0.4408489763736725\n",
            "Epoch: 20 Loss: 0.4408477246761322\n",
            "Epoch: 30 Loss: 0.4408465325832367\n",
            "Epoch: 40 Loss: 0.4408453702926636\n",
            "Epoch: 50 Loss: 0.4408441483974457\n",
            "Epoch: 60 Loss: 0.44084301590919495\n",
            "Epoch: 70 Loss: 0.44084200263023376\n",
            "Epoch: 80 Loss: 0.4408408999443054\n",
            "Epoch: 90 Loss: 0.44083985686302185\n",
            "Epoch: 100 Loss: 0.44083887338638306\n"
          ]
        }
      ],
      "source": [
        "epochs = 100\n",
        "\n",
        "model.train()   # set the model to training mode\n",
        "\n",
        "def train(model, criterion, optimizer, X, y, epochs):\n",
        "    # Finish implementing the training loop\n",
        "    for epoch in range(epochs):\n",
        "        # Forward pass\n",
        "        y_pred = model(X)\n",
        "        # Compute Loss\n",
        "        loss = criterion(y_pred, y)\n",
        "        # Backward pass\n",
        "        optimizer.zero_grad()\n",
        "        loss.backward()\n",
        "        # Update weights\n",
        "        optimizer.step()\n",
        "        # Zero gradients, backward pass, update weights\n",
        "\n",
        "        # print out the loss every 10 epochs\n",
        "        if (epoch + 1) % 10 == 0:\n",
        "          print(\"Epoch:\", epoch + 1, \"Loss:\", loss.item())\n",
        "\n",
        "train(model, criterion, optimizer, X_tensor, y_tensor, epochs)"
      ]
    },
    {
      "cell_type": "markdown",
      "metadata": {
        "id": "YeRsVJ3-uLnS"
      },
      "source": [
        "### Question 2.4: Evaluation and Conclusion (30 points)\n",
        "Let's start by defining some metrics to evaluate the model. In this question, you will implement accuracy and mean squared error metrics."
      ]
    },
    {
      "cell_type": "code",
      "execution_count": null,
      "metadata": {
        "id": "3RXLUPeQuLnS"
      },
      "outputs": [],
      "source": [
        "# Implement a function to calculate the accuracy of the model\n",
        "def accuracy(y_pred, y_true):\n",
        "  y_pred_class = (y_pred >= 0.5).float()\n",
        "  correct = (y_pred_class == y_true).sum()\n",
        "  accuracy = correct / len(y_true)\n",
        "  return accuracy.item()\n",
        "\n",
        "\n",
        "# Implement a function to calculate the mean squared error of the model\n",
        "def mse(y_pred, y_true):\n",
        "  return torch.mean((y_pred - y_true)**2).item()"
      ]
    },
    {
      "cell_type": "markdown",
      "metadata": {
        "id": "lx7ePGEcuLnc"
      },
      "source": [
        "Next, let's evaluate the model on the test dataset using the metrics you have implemented. You should get an accuracy above 80%. If not, rerun the training process again until you get an accuracy above 80%. Explain why we get different results each time we train the model. Are there other ways to ensure we get a representative result? (Answer in the markdown cell below)"
      ]
    },
    {
      "cell_type": "markdown",
      "metadata": {
        "id": "Ha41Ae7LuLnc"
      },
      "source": [
        "There are mutliple factors that affect this. One of the main ones is that the weights rae initilially randomised but then once the model starts learning and trained, the error is reduced."
      ]
    },
    {
      "cell_type": "code",
      "execution_count": null,
      "metadata": {
        "colab": {
          "base_uri": "https://localhost:8080/"
        },
        "id": "Oqli0HjMuLnc",
        "outputId": "ea5410be-5cae-400e-8b55-ca086ab20c78"
      },
      "outputs": [
        {
          "name": "stdout",
          "output_type": "stream",
          "text": [
            "Accuracy:  0.8002244830131531\n",
            "MSE:  0.1396469622850418\n"
          ]
        }
      ],
      "source": [
        "model.eval()            # set the model to evaluation mode\n",
        "\n",
        "with torch.no_grad():   # turn off gradients\n",
        "    # Implement testing and print out the accuracy and mean squared error\n",
        "    y_pred = model(X_test_tensor)\n",
        "    print(\"Accuracy: \", accuracy(y_pred, y_test_tensor))\n",
        "    print(\"MSE: \", mse(y_pred, y_test_tensor))"
      ]
    },
    {
      "cell_type": "markdown",
      "metadata": {
        "id": "rzNDdXn8uLnc"
      },
      "source": [
        "Finally, let's draw some conclusions based on the model you just trained. We will use the weights of the model to directly interpret the importance of each feature in predicting survival. Why is this possible? (Answer in the markdown cell below)"
      ]
    },
    {
      "cell_type": "markdown",
      "metadata": {
        "id": "L67RH2UiuLnc"
      },
      "source": [
        "Our model is logistically trained and because of this, the weights of each feature provide an insight that is changed at every iteration due to better fitting of the model."
      ]
    },
    {
      "cell_type": "code",
      "execution_count": null,
      "metadata": {
        "colab": {
          "base_uri": "https://localhost:8080/",
          "height": 814
        },
        "id": "a3rvegiMuLnc",
        "outputId": "0aaec347-1531-49cb-88be-1ddf3a310509"
      },
      "outputs": [
        {
          "name": "stdout",
          "output_type": "stream",
          "text": [
            "      Feature  Coefficient\n",
            "8  Sex_female     2.582775\n",
            "5  Embarked_C     1.234625\n",
            "6  Embarked_Q     1.156738\n",
            "7  Embarked_S     0.825444\n",
            "4        Fare     0.002230\n",
            "1         Age    -0.037970\n",
            "3       Parch    -0.091887\n",
            "9    Sex_male    -0.135483\n",
            "2       SibSp    -0.323259\n",
            "0      Pclass    -1.070219\n"
          ]
        },
        {
          "data": {
            "image/png": "[encoded data removed]",
            "text/plain": [
              "<Figure size 1000x600 with 1 Axes>"
            ]
          },
          "metadata": {},
          "output_type": "display_data"
        }
      ],
      "source": [
        "import matplotlib.pyplot as plt\n",
        "\n",
        "# Extract coefficients from the model\n",
        "coefficients = model.linear.weight.detach().numpy().flatten()\n",
        "X = pd.DataFrame(X, columns=data.columns[1:])\n",
        "features = X.columns\n",
        "\n",
        "# Create a DataFrame for better visualization\n",
        "coef_df = pd.DataFrame({\n",
        "    \"Feature\": features,\n",
        "    \"Coefficient\": coefficients\n",
        "}).sort_values(by=\"Coefficient\", ascending=False)\n",
        "\n",
        "\n",
        "# Print the coefficients\n",
        "print(coef_df)\n",
        "\n",
        "# Plot the coefficients with a bar chart\n",
        "plt.figure(figsize=(10, 6))\n",
        "plt.bar(coef_df[\"Feature\"], coef_df[\"Coefficient\"], color='purple')\n",
        "plt.xlabel(\"Features\")\n",
        "plt.ylabel(\"Coefficient\")\n",
        "plt.title(\"Feature Coefficients in the Linear Model\")\n",
        "plt.xticks(rotation=45, ha='right')\n",
        "plt.show()\n",
        "\n"
      ]
    },
    {
      "cell_type": "markdown",
      "metadata": {
        "id": "0R-f2gJNuLnc"
      },
      "source": [
        "Does the result align with your intuition? Why or why not? According to your results, what is the biggest contributing factor of survival? (Answer in the markdown cell below)"
      ]
    },
    {
      "cell_type": "markdown",
      "metadata": {
        "id": "-CepniEHuLnc"
      },
      "source": [
        "The results do align with the intuition. All the factors we thought would affect the model, do affect it to some extent. However, I did think that Age would have had a bigger affect.\n",
        "\n",
        "The biggest contributor was Sex - Female.\n",
        "\n"
      ]
    }
  ],
  "metadata": {
    "colab": {
      "provenance": []
    },
    "kernelspec": {
      "display_name": "base",
      "language": "python",
      "name": "python3"
    },
    "language_info": {
      "codemirror_mode": {
        "name": "ipython",
        "version": 3
      },
      "file_extension": ".py",
      "mimetype": "text/x-python",
      "name": "python",
      "nbconvert_exporter": "python",
      "pygments_lexer": "ipython3",
      "version": "3.11.8"
    }
  },
  "nbformat": 4,
  "nbformat_minor": 0
}
